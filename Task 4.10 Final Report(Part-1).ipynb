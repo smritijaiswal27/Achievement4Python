{
 "cells": [
  {
   "cell_type": "code",
   "execution_count": null,
   "id": "92ce17dc",
   "metadata": {},
   "outputs": [],
   "source": [
    "#Contents\n",
    "#Importing Libraries and Data (orders_products_all.pkl)\n",
    "#Data Security Check\n",
    "#Spending Habits by Region\n",
    "#Creating the 'region' column\n",
    "#Comparing 'region' and 'spending_flag'\n",
    "#Excluding Low-Activity Customers\n",
    "#Creating the 'exculsion_flag' column\n",
    "#Creating the sample\n",
    "#Exporting the sample as orders_products_high.pkl\n",
    "#Profiling Customers\n",
    "# Age\n",
    "#Income\n",
    "#Department\n",
    "#Family Status\n",
    "#Profile Visualizations\n",
    "#Profile Aggregation\n",
    "#Customer Profiles by Region and Department\n",
    "#Visualizations for Results\n",
    "#Extra Analysis\n",
    "# Ordering Habits by Region\n",
    "#Ordering Habits by Loyalty\n",
    "#Exporting as orders_products_final.pkl"
   ]
  },
  {
   "cell_type": "code",
   "execution_count": null,
   "id": "54ec20d3",
   "metadata": {},
   "outputs": [],
   "source": [
    "#Step 1: Importing Libraries and Data\n",
    "import pandas as pd\n",
    "import numpy as np\n",
    "import os\n",
    "import matplotlib.pyplot as plt\n",
    "import seaborn as sns\n",
    "import scipy"
   ]
  },
  {
   "cell_type": "code",
   "execution_count": null,
   "id": "c465566f",
   "metadata": {},
   "outputs": [],
   "source": [
    "path = r'C:\\Users\\smrit\\Intracart basket'"
   ]
  },
  {
   "cell_type": "code",
   "execution_count": null,
   "id": "58ffa830",
   "metadata": {},
   "outputs": [],
   "source": [
    "# Importing orders_products_all.pkl\n",
    "\n",
    "df = pd.read_pickle(os.path.join(path, 'Prepared', 'customer_merged_new.pkl'))"
   ]
  },
  {
   "cell_type": "code",
   "execution_count": null,
   "id": "4d404c8a",
   "metadata": {},
   "outputs": [],
   "source": [
    "df.shape"
   ]
  },
  {
   "cell_type": "code",
   "execution_count": null,
   "id": "99326f42",
   "metadata": {},
   "outputs": [],
   "source": [
    "df.info()"
   ]
  },
  {
   "cell_type": "code",
   "execution_count": null,
   "id": "94ca56e1",
   "metadata": {},
   "outputs": [],
   "source": [
    "df.head()"
   ]
  },
  {
   "cell_type": "code",
   "execution_count": null,
   "id": "a879e4bf",
   "metadata": {},
   "outputs": [],
   "source": [
    "#Step 2: Checking for data security"
   ]
  },
  {
   "cell_type": "code",
   "execution_count": null,
   "id": "436365ed",
   "metadata": {},
   "outputs": [],
   "source": [
    "#There are customer names in the data. The customer names should not be there as a part of data security"
   ]
  },
  {
   "cell_type": "code",
   "execution_count": null,
   "id": "4aab2661",
   "metadata": {},
   "outputs": [],
   "source": [
    "#Step 3: Spending Habits by Region"
   ]
  },
  {
   "cell_type": "code",
   "execution_count": null,
   "id": "26535a09",
   "metadata": {},
   "outputs": [],
   "source": [
    "# Creating an empty list that will become the 'region' column\n",
    "\n",
    "region = []"
   ]
  },
  {
   "cell_type": "code",
   "execution_count": null,
   "id": "de1d9310",
   "metadata": {},
   "outputs": [],
   "source": [
    "# Checking to see how the states are written in the df\n",
    "\n",
    "df['STATE'].value_counts(dropna = False)"
   ]
  },
  {
   "cell_type": "code",
   "execution_count": null,
   "id": "80240c80",
   "metadata": {},
   "outputs": [],
   "source": [
    "# Filling 'region' with 'northeast', 'midwest', 'south', or 'west'\n",
    "\n",
    "for x in df['STATE']:\n",
    "    if x in ['Maine','New Hampshire', 'Vermont', 'Massachusetts','Rhode Island','Connecticut','New York','Pennsylvania','New Jersey']:\n",
    "        region.append('northeast')\n",
    "    elif x in ['Wisconsin','Michigan','Illinois','Indiana','Ohio','North Dakota','South Dakota','Nebraska','Kansas','Minnesota','Iowa','Missouri']:\n",
    "        region.append('midwest')\n",
    "    elif x in ['Delaware','Maryland','District of Columbia','Virginia','West Virginia','North Carolina','South Carolina','Georgia','Florida','Kentucky','Tennessee','Mississippi','Alabama','Oklahoma','Texas','Arkansas','Louisiana']:\n",
    "        region.append('south')\n",
    "    else:\n",
    "        region.append('west')"
   ]
  },
  {
   "cell_type": "code",
   "execution_count": null,
   "id": "8a8d604c",
   "metadata": {},
   "outputs": [],
   "source": [
    "# Adding 'region' column to df\n",
    "\n",
    "df['region'] = region"
   ]
  },
  {
   "cell_type": "code",
   "execution_count": null,
   "id": "0498a31e",
   "metadata": {},
   "outputs": [],
   "source": [
    "# Getting frequency distribution for 'region'\n",
    "\n",
    "df['region'].value_counts(dropna = False)"
   ]
  },
  {
   "cell_type": "code",
   "execution_count": null,
   "id": "269490fe",
   "metadata": {},
   "outputs": [],
   "source": [
    "#Comparing 'region' with 'spending_flag'"
   ]
  },
  {
   "cell_type": "code",
   "execution_count": null,
   "id": "eae309fa",
   "metadata": {},
   "outputs": [],
   "source": [
    "# Creating a crosstab between 'region' and 'spending_flag'\n",
    "\n",
    "region_spending_cross = pd.crosstab(df['region'], df['spending_flag'], dropna = False)"
   ]
  },
  {
   "cell_type": "code",
   "execution_count": null,
   "id": "ed523e89",
   "metadata": {},
   "outputs": [],
   "source": [
    "region_spending_cross# Copying to clipboard to paste in Excel\n",
    "\n",
    "region_spending_cross.to_clipboard()"
   ]
  },
  {
   "cell_type": "code",
   "execution_count": null,
   "id": "1ab6bcae",
   "metadata": {},
   "outputs": [],
   "source": [
    "# Copying to clipboard to paste in Excel\n",
    "\n",
    "region_spending_cross.to_clipboard()"
   ]
  },
  {
   "cell_type": "code",
   "execution_count": null,
   "id": "2c1e49d6",
   "metadata": {},
   "outputs": [],
   "source": [
    "#Step 4: Excluding low-activity customers"
   ]
  },
  {
   "cell_type": "code",
   "execution_count": null,
   "id": "f53885bc",
   "metadata": {},
   "outputs": [],
   "source": [
    "#Creating the exclusion flag"
   ]
  },
  {
   "cell_type": "code",
   "execution_count": null,
   "id": "c0eef9fc",
   "metadata": {},
   "outputs": [],
   "source": [
    "df.loc[df['max_order'] < 5, 'low_order_flag'] = 'Low order customer'"
   ]
  },
  {
   "cell_type": "code",
   "execution_count": null,
   "id": "d24795a7",
   "metadata": {},
   "outputs": [],
   "source": [
    "df['low_order_flag'].value_counts(dropna = False)"
   ]
  },
  {
   "cell_type": "code",
   "execution_count": null,
   "id": "30fb4c27",
   "metadata": {},
   "outputs": [],
   "source": [
    "df.loc[df['max_order'] >= 5, 'low_order_flag'] = 'High order customer'"
   ]
  },
  {
   "cell_type": "code",
   "execution_count": null,
   "id": "a524f00c",
   "metadata": {},
   "outputs": [],
   "source": [
    "#Creating a sample with only high order customers\n",
    "# Creating the sample"
   ]
  },
  {
   "cell_type": "code",
   "execution_count": null,
   "id": "0fb26617",
   "metadata": {},
   "outputs": [],
   "source": [
    "df_high = df[df['low_order_flag'] == 'High order customer']"
   ]
  },
  {
   "cell_type": "code",
   "execution_count": null,
   "id": "669850fd",
   "metadata": {},
   "outputs": [],
   "source": [
    "df_high.head()"
   ]
  },
  {
   "cell_type": "code",
   "execution_count": null,
   "id": "4829e76f",
   "metadata": {},
   "outputs": [],
   "source": [
    "#Step 5: Profiling Customers\n",
    "#I've been asked to create a profiling variable based on age, income, certain goods in the 'department_id' column, and number of dependents.\n",
    "\n",
    "#In addition to that, the 'family_status' column obviously contains useful information about whether people are single or married, which affects how we view the 'number_of_dependents'.\n",
    "\n",
    "#If I take each of those 5 columns, assign them 2 values (e.g. \"Young\" and \"Old\" for the 'age' column), and then look at every combination of values, there will be 2^5=32 distinct profile types. This will be too noisy to make sense of.\n",
    "\n",
    "#So instead, I will simply create flags for each of these columns that I can use to answer the questions in the Project Brief."
   ]
  },
  {
   "cell_type": "code",
   "execution_count": null,
   "id": "dfd5b44b",
   "metadata": {},
   "outputs": [],
   "source": [
    "#Age\n",
    "# Creating the age_flag\n",
    "\n",
    "age_flag = []\n",
    "for x in df['Age'].tolist():\n",
    "    if x <= 25:\n",
    "        age_flag.append('Young')\n",
    "    elif x > 25 and x < 65:\n",
    "        age_flag.append('Middle-aged')\n",
    "    elif x >= 65:\n",
    "        age_flag.append('Senior')\n",
    "    else:\n",
    "        print('Weird value:', x)"
   ]
  },
  {
   "cell_type": "code",
   "execution_count": null,
   "id": "764a303b",
   "metadata": {},
   "outputs": [],
   "source": [
    "# Adding age_flag to df as 'age_profile'\n",
    "\n",
    "df['age_profile'] = age_flag"
   ]
  },
  {
   "cell_type": "code",
   "execution_count": null,
   "id": "e9236bb9",
   "metadata": {},
   "outputs": [],
   "source": [
    "# Getting frequency distribution for 'age_profile'\n",
    "\n",
    "df['age_profile'].value_counts(dropna = False)"
   ]
  },
  {
   "cell_type": "code",
   "execution_count": null,
   "id": "7f9450bb",
   "metadata": {},
   "outputs": [],
   "source": [
    "#Income\n",
    "# Creating the income_flag\n",
    "\n",
    "income_flag = []\n",
    "for x in df['income'].tolist():\n",
    "    if x < 75000:\n",
    "        income_flag.append('Low-income')\n",
    "    elif x >= 75000 and x < 150000:\n",
    "        income_flag.append('Mid-income')\n",
    "    elif x >= 150000:\n",
    "        income_flag.append('High-income')\n",
    "    else:\n",
    "        print('Weird value:', row)"
   ]
  },
  {
   "cell_type": "code",
   "execution_count": null,
   "id": "b91162cc",
   "metadata": {},
   "outputs": [],
   "source": [
    "# Adding income_flag to df as 'income_profile'\n",
    "\n",
    "df['income_profile'] = income_flag"
   ]
  },
  {
   "cell_type": "code",
   "execution_count": null,
   "id": "ffac6cf0",
   "metadata": {},
   "outputs": [],
   "source": [
    "# Getting frequency distribution for 'income_profile'\n",
    "\n",
    "df['income_profile'].value_counts(dropna = False)"
   ]
  },
  {
   "cell_type": "code",
   "execution_count": null,
   "id": "ea706c70",
   "metadata": {},
   "outputs": [],
   "source": [
    "#Department\n",
    "#I will use the department_id column to separate the customers into vegans and non-vegans.\n",
    "\n",
    "#Vegans don't eat meat (department_id=12) or dairy (department_id=16)\n",
    "\n",
    "#I don't want to label each purchase as vegan or non-vegan, but the customer as vegan or non-vegan, based on their purchases."
   ]
  },
  {
   "cell_type": "code",
   "execution_count": null,
   "id": "7d671868",
   "metadata": {},
   "outputs": [],
   "source": [
    "# Creating a crosstab between 'department_id' and 'user_id'\n",
    "\n",
    "dep_user_cross = pd.crosstab(df['department_id'], df['user_id'], dropna = False)"
   ]
  },
  {
   "cell_type": "code",
   "execution_count": null,
   "id": "10fcb7eb",
   "metadata": {},
   "outputs": [],
   "source": [
    "dep_user_cross"
   ]
  },
  {
   "cell_type": "code",
   "execution_count": null,
   "id": "5565fe09",
   "metadata": {},
   "outputs": [],
   "source": [
    "# Assigning nutrition flags to users and storing them in a Python dictionary\n",
    "\n",
    "vegan_dict = dict()\n",
    "for user in dep_user_cross:\n",
    "    workinglist = dep_user_cross[user].tolist()\n",
    "    if workinglist[11] == 0 and workinglist[15] == 0:   # the index starts at 0, so index 0 corresponds to dep_id=1\n",
    "        vegan_dict[user] = 'Vegan'\n",
    "    else:\n",
    "        vegan_dict[user] = 'Non-vegan'"
   ]
  },
  {
   "cell_type": "code",
   "execution_count": null,
   "id": "966346db",
   "metadata": {},
   "outputs": [],
   "source": [
    "# Assigning user flags to the vegan_flag\n",
    "\n",
    "vegan_flag = []\n",
    "for user in df['user_id']:\n",
    "    vegan_flag.append(vegan_dict[user])"
   ]
  },
  {
   "cell_type": "code",
   "execution_count": null,
   "id": "6c60d9de",
   "metadata": {},
   "outputs": [],
   "source": [
    "# Adding vegan_flag to df as 'vegan_profile'\n",
    "\n",
    "df['vegan_profile'] = vegan_flag"
   ]
  },
  {
   "cell_type": "code",
   "execution_count": null,
   "id": "e3bf1f2b",
   "metadata": {},
   "outputs": [],
   "source": [
    "# Getting frequency distribution for 'vegan_profile'\n",
    "\n",
    "df['vegan_profile'].value_counts(dropna = False)"
   ]
  },
  {
   "cell_type": "code",
   "execution_count": null,
   "id": "b30386cd",
   "metadata": {},
   "outputs": [],
   "source": [
    "#Family status"
   ]
  },
  {
   "cell_type": "code",
   "execution_count": null,
   "id": "2d2e21b8",
   "metadata": {},
   "outputs": [],
   "source": [
    "df['Marital_Status'].value_counts(dropna = False)"
   ]
  },
  {
   "cell_type": "code",
   "execution_count": null,
   "id": "554caf29",
   "metadata": {},
   "outputs": [],
   "source": [
    "\n",
    "#I will put information from the 'family_status' column together with information about the number of dependents to get a sense for the family structure. Here's the plan:\n",
    "\n",
    "#(family_status = married) and (number_of_dependents == 1) : married, no children\n",
    "\n",
    "#(family_status = married) and (number_of_dependents >= 2) : married with children\n",
    "\n",
    "#(family_status in (single, divorced/widowed, living with parents and siblings)) and (number_of_dependents == 0) : single, no children\n",
    "\n",
    "#(family_status in (single, divorced/widowed, living with parents and siblings)) and (number_of_dependents >= 1) : single with children"
   ]
  },
  {
   "cell_type": "code",
   "execution_count": null,
   "id": "b80034bd",
   "metadata": {},
   "outputs": [],
   "source": [
    "# Creating the 'family_profile' column and labeling the 'married no children' customers\n",
    "\n",
    "df.loc[(df['Marital_Status'] == 'married') & (df['Total_Dependents'] == 1), 'family_profile'] = 'Married no children'"
   ]
  },
  {
   "cell_type": "code",
   "execution_count": null,
   "id": "9c02021e",
   "metadata": {},
   "outputs": [],
   "source": [
    "# Creating the 'family_profile' column and labeling the 'married with children' customers\n",
    "\n",
    "df.loc[(df['Marital_Status'] == 'married') & (df['Total_Dependents'] >= 2), 'family_profile'] = 'Married with children'"
   ]
  },
  {
   "cell_type": "code",
   "execution_count": null,
   "id": "8cae8515",
   "metadata": {},
   "outputs": [],
   "source": [
    "# Creating the 'family_profile' column and labeling the 'single no children' customers\n",
    "\n",
    "df.loc[(df['Marital_Status'] != 'married') & (df['Total_Dependents'] == 0), 'family_profile'] = 'Single no children'"
   ]
  },
  {
   "cell_type": "code",
   "execution_count": null,
   "id": "5a3850b0",
   "metadata": {},
   "outputs": [],
   "source": [
    "# Creating the 'family_profile' column and labeling the 'single with children' customers\n",
    "\n",
    "df.loc[(df['Marital_Status'] != 'married') & (df['Total_Dependents'] >= 1), 'family_profile'] = 'Single with children'"
   ]
  },
  {
   "cell_type": "code",
   "execution_count": null,
   "id": "02785ccc",
   "metadata": {},
   "outputs": [],
   "source": [
    "# Getting frequency distribution for 'family_profile'\n",
    "\n",
    "df['family_profile'].value_counts(dropna = False)"
   ]
  },
  {
   "cell_type": "code",
   "execution_count": null,
   "id": "0f952a21",
   "metadata": {},
   "outputs": [],
   "source": [
    "#Step 6: Profile Visualizations\n",
    "#Create an appropriate visualization to show the distribution of profiles."
   ]
  },
  {
   "cell_type": "code",
   "execution_count": null,
   "id": "5e7b13c1",
   "metadata": {},
   "outputs": [],
   "source": [
    "# age_profile\n",
    "\n",
    "age_profile_bar = df['age_profile'].value_counts().plot.bar(rot=0)"
   ]
  },
  {
   "cell_type": "code",
   "execution_count": null,
   "id": "78b829cb",
   "metadata": {},
   "outputs": [],
   "source": [
    "# Exporting the viz\n",
    "\n",
    "age_profile_bar.figure.savefig(os.path.join(path, 'Prepared', 'age_profile_bar.png'))"
   ]
  },
  {
   "cell_type": "code",
   "execution_count": null,
   "id": "2db19df4",
   "metadata": {},
   "outputs": [],
   "source": [
    "# income_profile\n",
    "\n",
    "income_profile_bar = df['income_profile'].value_counts().plot.bar(rot=0)"
   ]
  },
  {
   "cell_type": "code",
   "execution_count": null,
   "id": "30c8b07b",
   "metadata": {},
   "outputs": [],
   "source": [
    "# Exporting the viz\n",
    "\n",
    "income_profile_bar.figure.savefig(os.path.join(path, 'Prepared', 'income_profile_bar.png'))"
   ]
  },
  {
   "cell_type": "code",
   "execution_count": null,
   "id": "e69b4979",
   "metadata": {},
   "outputs": [],
   "source": [
    "# vegan_profile\n",
    "\n",
    "vegan_profile_bar = df['vegan_profile'].value_counts().plot.bar(rot=0)"
   ]
  },
  {
   "cell_type": "code",
   "execution_count": null,
   "id": "2950d1a8",
   "metadata": {},
   "outputs": [],
   "source": [
    "# Exporting the viz\n",
    "\n",
    "vegan_profile_bar.figure.savefig(os.path.join(path,  'Prepared', 'vegan_profile_bar.png'))"
   ]
  },
  {
   "cell_type": "code",
   "execution_count": null,
   "id": "4c9b6004",
   "metadata": {},
   "outputs": [],
   "source": [
    "# family_profile\n",
    "\n",
    "family_profile_bar = df['family_profile'].value_counts().plot.bar()"
   ]
  },
  {
   "cell_type": "code",
   "execution_count": null,
   "id": "ff9c935b",
   "metadata": {},
   "outputs": [],
   "source": [
    "# Exporting the viz\n",
    "\n",
    "family_profile_bar.figure.savefig(os.path.join(path, 'Prepared', 'family_profile_bar.png'))"
   ]
  },
  {
   "cell_type": "code",
   "execution_count": null,
   "id": "4279017c",
   "metadata": {},
   "outputs": [],
   "source": [
    "#Step 7: Profile Aggregation\n",
    "#Aggregate the max, mean, and min variables on a customer-profile level for usage frequency and expenditure."
   ]
  },
  {
   "cell_type": "code",
   "execution_count": null,
   "id": "f4bdefc3",
   "metadata": {},
   "outputs": [],
   "source": [
    "#Age"
   ]
  },
  {
   "cell_type": "code",
   "execution_count": null,
   "id": "91e8d123",
   "metadata": {},
   "outputs": [],
   "source": [
    "# age_profile stats\n",
    "\n",
    "df.groupby('age_profile').agg({'days_since_prior_order': ['mean', 'max', 'min'], 'prices': ['mean', 'max', 'min']})"
   ]
  },
  {
   "cell_type": "code",
   "execution_count": null,
   "id": "cf9f4320",
   "metadata": {},
   "outputs": [],
   "source": [
    "#Usage frequency and expenditure are similar across all age groups, though Seniors do tend to shop a little more frequently and purchase slightly more expensive products, on average."
   ]
  },
  {
   "cell_type": "code",
   "execution_count": null,
   "id": "816aa7b8",
   "metadata": {},
   "outputs": [],
   "source": [
    "#Income"
   ]
  },
  {
   "cell_type": "code",
   "execution_count": null,
   "id": "baf0b37e",
   "metadata": {},
   "outputs": [],
   "source": [
    "# income_profile stats\n",
    "\n",
    "df.groupby('income_profile').agg({'days_since_prior_order': ['mean', 'max', 'min'], 'prices': ['mean', 'max', 'min']})"
   ]
  },
  {
   "cell_type": "code",
   "execution_count": null,
   "id": "f443db36",
   "metadata": {},
   "outputs": [],
   "source": [
    "#Usage frequency and expenditure are, again, fairly close among the income groups. Low-income customers tend to purchase slightly cheaper options, and they shop a little less frequently than mid- and high-income customers."
   ]
  },
  {
   "cell_type": "code",
   "execution_count": null,
   "id": "1d3885cb",
   "metadata": {},
   "outputs": [],
   "source": [
    "#Veganism"
   ]
  },
  {
   "cell_type": "code",
   "execution_count": null,
   "id": "829cdc62",
   "metadata": {},
   "outputs": [],
   "source": [
    "# vegan_profile stats\n",
    "\n",
    "df.groupby('vegan_profile').agg({'days_since_prior_order': ['mean', 'max', 'min'], 'prices': ['mean', 'max', 'min']})"
   ]
  },
  {
   "cell_type": "code",
   "execution_count": null,
   "id": "03586128",
   "metadata": {},
   "outputs": [],
   "source": [
    "#Here we see more of a difference, expecially in usage frequency. Vegans tend to go longer between orders than their non-vegan counterparts. They also tend to go with cheaper products (which is surprising, given that vegan products can be expensive)."
   ]
  },
  {
   "cell_type": "code",
   "execution_count": null,
   "id": "1fd917de",
   "metadata": {},
   "outputs": [],
   "source": [
    "#Family Status"
   ]
  },
  {
   "cell_type": "code",
   "execution_count": null,
   "id": "ac1e0aca",
   "metadata": {},
   "outputs": [],
   "source": [
    "# family_profile stats\n",
    "\n",
    "df.groupby('family_profile').agg({'days_since_prior_order': ['mean', 'max', 'min'], 'prices': ['mean', 'max', 'min']})"
   ]
  },
  {
   "cell_type": "code",
   "execution_count": null,
   "id": "1ff12503",
   "metadata": {},
   "outputs": [],
   "source": [
    "#Again, we have remarkably consistent results across all groups with respect to usage frequency and expenditure. \"Single with children\" customers shop the most frequently and purchase more expensive items than their peers while \"Married with children\" customers shop the least frequently and purchase cheaper items than their peers. These differences are minor, though."
   ]
  },
  {
   "cell_type": "code",
   "execution_count": null,
   "id": "ade0b38b",
   "metadata": {},
   "outputs": [],
   "source": [
    "#Step 8: Customer Profiles by Region and Department\n",
    "#Customer Profiles by Region"
   ]
  },
  {
   "cell_type": "code",
   "execution_count": null,
   "id": "7f16210a",
   "metadata": {},
   "outputs": [],
   "source": [
    "# Creating a crosstab comparing 'age_profile' and 'region', looking at column percentages\n",
    "\n",
    "age_region_cross = pd.crosstab(df['age_profile'], df['region'], normalize = 'columns')\n",
    "# normalize = 'columns' gives the column percentages"
   ]
  },
  {
   "cell_type": "code",
   "execution_count": null,
   "id": "06583d75",
   "metadata": {},
   "outputs": [],
   "source": [
    "age_region_cross"
   ]
  },
  {
   "cell_type": "code",
   "execution_count": null,
   "id": "249830db",
   "metadata": {},
   "outputs": [],
   "source": [
    "#Similar age groups across all regions."
   ]
  },
  {
   "cell_type": "code",
   "execution_count": null,
   "id": "2682103d",
   "metadata": {},
   "outputs": [],
   "source": [
    "#Income"
   ]
  },
  {
   "cell_type": "code",
   "execution_count": null,
   "id": "a89bb71b",
   "metadata": {},
   "outputs": [],
   "source": [
    "# Creating a crosstab comparing 'income_profile' and 'region', looking at column percentages\n",
    "\n",
    "income_region_cross = pd.crosstab(df['income_profile'], df['region'], normalize = 'columns')\n",
    "# normalize = 'columns' gives the column percentages"
   ]
  },
  {
   "cell_type": "code",
   "execution_count": null,
   "id": "689a5b01",
   "metadata": {},
   "outputs": [],
   "source": [
    "income_region_cross"
   ]
  },
  {
   "cell_type": "code",
   "execution_count": null,
   "id": "335038e2",
   "metadata": {},
   "outputs": [],
   "source": [
    "# Creating a crosstab comparing 'vegan_profile' and 'region', looking at column percentages\n",
    "\n",
    "vegan_region_cross = pd.crosstab(df['vegan_profile'], df['region'], normalize = 'columns')\n",
    "# normalize = 'columns' gives the column percentages"
   ]
  },
  {
   "cell_type": "code",
   "execution_count": null,
   "id": "c89c8511",
   "metadata": {},
   "outputs": [],
   "source": [
    "vegan_region_cross"
   ]
  },
  {
   "cell_type": "code",
   "execution_count": null,
   "id": "5cfee6b1",
   "metadata": {},
   "outputs": [],
   "source": [
    "\n",
    "#Similar rates of veganism in the midwest and northeast, but there are fewer vegans in the south, and more vegans in the west."
   ]
  },
  {
   "cell_type": "code",
   "execution_count": null,
   "id": "61cb81cc",
   "metadata": {},
   "outputs": [],
   "source": [
    "#Family Status"
   ]
  },
  {
   "cell_type": "code",
   "execution_count": null,
   "id": "fc7f2172",
   "metadata": {},
   "outputs": [],
   "source": [
    "# Creating a crosstab comparing 'family_profile' and 'region', looking at column percentages\n",
    "\n",
    "family_region_cross = pd.crosstab(df['family_profile'], df['region'], normalize = 'columns')\n",
    "# normalize = 'columns' gives the column percentages"
   ]
  },
  {
   "cell_type": "code",
   "execution_count": null,
   "id": "1ecf480b",
   "metadata": {},
   "outputs": [],
   "source": [
    "family_region_cross"
   ]
  },
  {
   "cell_type": "code",
   "execution_count": null,
   "id": "cbe3aa0b",
   "metadata": {},
   "outputs": [],
   "source": [
    "#Customer Profiles by Department\n",
    "#Age"
   ]
  },
  {
   "cell_type": "code",
   "execution_count": null,
   "id": "5d6134e8",
   "metadata": {},
   "outputs": [],
   "source": [
    "# Creating a crosstab comparing 'age_profile' and 'department_id', looking at row percentages\n",
    "\n",
    "age_department_cross = pd.crosstab(df['age_profile'], df['department_id'], normalize = 'index')   \n",
    "# normalize = 'index' gives row percentages"
   ]
  },
  {
   "cell_type": "code",
   "execution_count": null,
   "id": "0138f5a4",
   "metadata": {},
   "outputs": [],
   "source": [
    "pd.set_option('display.max_columns', None)    # displays all columns\n",
    "\n",
    "age_department_cross"
   ]
  },
  {
   "cell_type": "code",
   "execution_count": null,
   "id": "cb62acf6",
   "metadata": {},
   "outputs": [],
   "source": [
    "#To three decimal places, all columns are the same (+/- one decimal place) except\n",
    "\n",
    "#4 (produce)\n",
    "\n",
    "#To two significant digits, all columns are the same (+/- one sig dig) except\n",
    "\n",
    "#5 (alcohol)\n",
    "\n",
    "#8 (pets)"
   ]
  },
  {
   "cell_type": "code",
   "execution_count": null,
   "id": "d88c84b4",
   "metadata": {},
   "outputs": [],
   "source": [
    "#Income"
   ]
  },
  {
   "cell_type": "code",
   "execution_count": null,
   "id": "6ab78140",
   "metadata": {},
   "outputs": [],
   "source": [
    "# Creating a crosstab comparing 'income_profile' and 'department_id', looking at row percentages\n",
    "income_department_cross = pd.crosstab(df['income_profile'], df['department_id'], normalize = 'index')\n",
    "# normalize = 'index' gives row percentages"
   ]
  },
  {
   "cell_type": "code",
   "execution_count": null,
   "id": "db6cf008",
   "metadata": {},
   "outputs": [],
   "source": [
    "income_department_cross"
   ]
  },
  {
   "cell_type": "code",
   "execution_count": null,
   "id": "29142eda",
   "metadata": {},
   "outputs": [],
   "source": [
    "#To three decimal places, all columns are the same (+/- two decimal places) except\n",
    "\n",
    "#1 (frozen)\n",
    "\n",
    "#4 (produce) *big one\n",
    "\n",
    "#7 (beverages)\n",
    "\n",
    "#9 (dry goods pasta)\n",
    "\n",
    "#12 (meat seafood) *mid sized one\n",
    "\n",
    "#13 (pantry)\n",
    "\n",
    "#15 (canned goods)\n",
    "\n",
    "#16 (dairy eggs) *mid sized one\n",
    "\n",
    "#19 (snacks) *big one\n",
    "\n",
    "#To two significant digits, all columns are the same (+/- two sig dig) except 1, 3, 4, 5, 6, 7, 8, 9, 10, 12, 13, 14, 15, 19"
   ]
  },
  {
   "cell_type": "code",
   "execution_count": null,
   "id": "54f6ad30",
   "metadata": {},
   "outputs": [],
   "source": [
    "#Veganism"
   ]
  },
  {
   "cell_type": "code",
   "execution_count": null,
   "id": "da77fd15",
   "metadata": {},
   "outputs": [],
   "source": [
    "# Creating a crosstab comparing 'vegan_profile' and 'department_id'\n",
    "\n",
    "vegan_department_cross = pd.crosstab(df['vegan_profile'], df['department_id'], normalize = 'index')\n",
    "# normalize = 'index' gives row percentages"
   ]
  },
  {
   "cell_type": "code",
   "execution_count": null,
   "id": "28101e07",
   "metadata": {},
   "outputs": [],
   "source": [
    "vegan_department_cross"
   ]
  },
  {
   "cell_type": "code",
   "execution_count": null,
   "id": "7836876f",
   "metadata": {},
   "outputs": [],
   "source": [
    "#There are differences here in nearly all departments. Vegans spend less on 1 (frozen), 3 (bakery), 9 (dry goods pasta), 13 (pantry), 15 (canned goods), 20 (deli), and obviously, they don't buy meat and dairy.\n",
    "\n",
    "#Vegans spend more on 4 (produce), 5 (alcohol), 7 (beverages), 11 (personal care), 17 (household), 19 (snacks)"
   ]
  },
  {
   "cell_type": "code",
   "execution_count": null,
   "id": "edcf1470",
   "metadata": {},
   "outputs": [],
   "source": [
    "# This isn't a large df, so I'm going to do some work with it in Excel.  Copying to clipboard...\n",
    "\n",
    "vegan_department_cross.to_clipboard()"
   ]
  },
  {
   "cell_type": "code",
   "execution_count": null,
   "id": "1cebe212",
   "metadata": {},
   "outputs": [],
   "source": [
    "#Ok, so the largest differences (in magnitude), besides meat and dairy, are department 7 (beverages) at 11.2% and department 19 (snacks) at 7.8%. There's also a fairly sizeable difference in department 5 (alcohol) at 3.0%\n",
    "\n",
    "#The largest differences (relatively speaking), besides meat and dairy, are department 5 (alcohol) from which vegans purchase 87.3% more often than non-vegans, department 9 (dry goods pasta) from which vegans purchase 65.2% less often than non-vegans, and department 17 (household) from which vegans purchase 65.1% more often than non-vegans."
   ]
  },
  {
   "cell_type": "code",
   "execution_count": null,
   "id": "4e5ccfe6",
   "metadata": {},
   "outputs": [],
   "source": [
    "#Family Status"
   ]
  },
  {
   "cell_type": "code",
   "execution_count": null,
   "id": "b33fbfb7",
   "metadata": {},
   "outputs": [],
   "source": [
    "# Creating a crosstab comparing 'family_profile' and 'department_id'\n",
    "\n",
    "family_department_cross = pd.crosstab(df['family_profile'], df['department_id'], normalize = 'index')\n",
    "# normalize = 'index' gives row percentages"
   ]
  },
  {
   "cell_type": "code",
   "execution_count": null,
   "id": "3c7a9d8b",
   "metadata": {},
   "outputs": [],
   "source": [
    "family_department_cross"
   ]
  },
  {
   "cell_type": "code",
   "execution_count": null,
   "id": "af1dce30",
   "metadata": {},
   "outputs": [],
   "source": [
    "#We see fairly similar distributions here. Department 5 (alcohol) is slightly more elevated for single customers, especially those with children. Single customers with children purchase more often from department 8 (pets). Otherwise, it's fairly uniform."
   ]
  },
  {
   "cell_type": "code",
   "execution_count": null,
   "id": "6437e0fa",
   "metadata": {},
   "outputs": [],
   "source": [
    "#Step 9: Visualizations for Results\n",
    "#Visualizations for Profiles by Region"
   ]
  },
  {
   "cell_type": "code",
   "execution_count": null,
   "id": "58281ae0",
   "metadata": {},
   "outputs": [],
   "source": [
    "# age_profile by region\n",
    "\n",
    "age_region_bar = age_region_cross.plot.bar(rot=0)"
   ]
  },
  {
   "cell_type": "code",
   "execution_count": null,
   "id": "8cc3a31c",
   "metadata": {},
   "outputs": [],
   "source": [
    "# Exporting viz\n",
    "\n",
    "age_region_bar.figure.savefig(os.path.join(path,'Prepared', 'age_region_bar.png'))"
   ]
  },
  {
   "cell_type": "code",
   "execution_count": null,
   "id": "bd4ee713",
   "metadata": {},
   "outputs": [],
   "source": [
    "# income_profile by region\n",
    "\n",
    "income_region_bar = income_region_cross.plot.bar(rot=0)"
   ]
  },
  {
   "cell_type": "code",
   "execution_count": null,
   "id": "c4170aaa",
   "metadata": {},
   "outputs": [],
   "source": [
    "# Exporting viz\n",
    "\n",
    "income_region_bar.figure.savefig(os.path.join(path, 'Prepared', 'income_region_bar.png'))"
   ]
  },
  {
   "cell_type": "code",
   "execution_count": null,
   "id": "c5be35ee",
   "metadata": {},
   "outputs": [],
   "source": [
    "#Veganism"
   ]
  },
  {
   "cell_type": "code",
   "execution_count": null,
   "id": "84690694",
   "metadata": {},
   "outputs": [],
   "source": [
    "# vegan_profile by region\n",
    "\n",
    "vegan_region_bar = vegan_region_cross.plot.bar(rot=0)"
   ]
  },
  {
   "cell_type": "code",
   "execution_count": null,
   "id": "d27bbfef",
   "metadata": {},
   "outputs": [],
   "source": [
    "# Exporting viz\n",
    "\n",
    "vegan_region_bar.figure.savefig(os.path.join(path, 'Prepared', 'vegan_region_bar.png'))"
   ]
  },
  {
   "cell_type": "code",
   "execution_count": null,
   "id": "0477766e",
   "metadata": {},
   "outputs": [],
   "source": [
    "#Family Status"
   ]
  },
  {
   "cell_type": "code",
   "execution_count": null,
   "id": "b9850b5d",
   "metadata": {},
   "outputs": [],
   "source": [
    "# family_profile by region\n",
    "\n",
    "family_region_bar = family_region_cross.plot.bar()"
   ]
  },
  {
   "cell_type": "code",
   "execution_count": null,
   "id": "5218a673",
   "metadata": {},
   "outputs": [],
   "source": [
    "# Exporting viz\n",
    "\n",
    "family_region_bar.figure.savefig(os.path.join(path, 'Prepared', 'family_region_bar.png'))"
   ]
  },
  {
   "cell_type": "code",
   "execution_count": null,
   "id": "6533cfab",
   "metadata": {},
   "outputs": [],
   "source": [
    "#Visualizations for Profiles by Department\n",
    "#Age"
   ]
  },
  {
   "cell_type": "code",
   "execution_count": null,
   "id": "129c5598",
   "metadata": {},
   "outputs": [],
   "source": [
    "# Creating a new crosstab so that the departments are on the x-axis\n",
    "\n",
    "age_department_cros = pd.crosstab(df['department_id'], df['age_profile'])"
   ]
  },
  {
   "cell_type": "code",
   "execution_count": null,
   "id": "06b7d69c",
   "metadata": {},
   "outputs": [],
   "source": [
    "# Creating a stacked bar plot of the new crosstab\n",
    "\n",
    "age_department_bar = age_department_cros.plot.bar(stacked = True)"
   ]
  },
  {
   "cell_type": "code",
   "execution_count": null,
   "id": "645b47d5",
   "metadata": {},
   "outputs": [],
   "source": [
    "# Exporting the viz\n",
    "\n",
    "age_department_bar.figure.savefig(os.path.join(path, 'Prepared', 'age_department_bar.png'))"
   ]
  },
  {
   "cell_type": "code",
   "execution_count": null,
   "id": "efaa57e4",
   "metadata": {},
   "outputs": [],
   "source": [
    "### Income"
   ]
  },
  {
   "cell_type": "code",
   "execution_count": null,
   "id": "7d4f6d1b",
   "metadata": {},
   "outputs": [],
   "source": [
    "# Creating a new crosstab so that the departments are on the x-axis\n",
    "\n",
    "income_department_cros = pd.crosstab(df['department_id'], df['income_profile'])"
   ]
  },
  {
   "cell_type": "code",
   "execution_count": null,
   "id": "c279c6e0",
   "metadata": {},
   "outputs": [],
   "source": [
    "# Creating a stacked bar plot of the new crosstab\n",
    "\n",
    "income_department_bar = income_department_cros.plot.bar(stacked = True)"
   ]
  },
  {
   "cell_type": "code",
   "execution_count": null,
   "id": "ce1c0f3b",
   "metadata": {},
   "outputs": [],
   "source": [
    "# Exporting the viz\n",
    "\n",
    "income_department_bar.figure.savefig(os.path.join(path, 'Prepared', 'income_department_bar.png'))"
   ]
  },
  {
   "cell_type": "code",
   "execution_count": null,
   "id": "ebe41bbc",
   "metadata": {},
   "outputs": [],
   "source": [
    "#Vegan"
   ]
  },
  {
   "cell_type": "code",
   "execution_count": null,
   "id": "c15dce33",
   "metadata": {},
   "outputs": [],
   "source": [
    "# Creating a new crosstab so that the departments are on the x-axis\n",
    "\n",
    "vegan_department_cros = pd.crosstab(df['department_id'], df['vegan_profile'])"
   ]
  },
  {
   "cell_type": "code",
   "execution_count": null,
   "id": "f1b1312a",
   "metadata": {},
   "outputs": [],
   "source": [
    "# Creating a stacked bar plot of the new crosstab\n",
    "\n",
    "vegan_department_bar = vegan_department_cros.plot.bar(stacked = True)"
   ]
  },
  {
   "cell_type": "code",
   "execution_count": null,
   "id": "744f2470",
   "metadata": {},
   "outputs": [],
   "source": [
    "# Exporting the viz\n",
    "\n",
    "vegan_department_bar.figure.savefig(os.path.join(path, 'Prepared', 'vegan_department_bar.png'))"
   ]
  },
  {
   "cell_type": "code",
   "execution_count": null,
   "id": "59944c0a",
   "metadata": {},
   "outputs": [],
   "source": [
    "### Family Status"
   ]
  },
  {
   "cell_type": "code",
   "execution_count": null,
   "id": "893154c9",
   "metadata": {},
   "outputs": [],
   "source": [
    "# Creating a new crosstab so that the departments are on the x-axis\n",
    "\n",
    "family_department_cros = pd.crosstab(df['department_id'], df['family_profile'])"
   ]
  },
  {
   "cell_type": "code",
   "execution_count": null,
   "id": "ee6fe447",
   "metadata": {},
   "outputs": [],
   "source": [
    "# Creating a stacked bar plot of the new crosstab\n",
    "\n",
    "family_department_bar = family_department_cros.plot.bar(stacked = True)"
   ]
  },
  {
   "cell_type": "code",
   "execution_count": null,
   "id": "3c0b4ad8",
   "metadata": {},
   "outputs": [],
   "source": [
    "# Exporting the viz\n",
    "\n",
    "family_department_bar.figure.savefig(os.path.join(path, 'Prepared', 'family_department_bar.png'))"
   ]
  },
  {
   "cell_type": "code",
   "execution_count": null,
   "id": "d918b763",
   "metadata": {},
   "outputs": [],
   "source": [
    "#Extra Analysis"
   ]
  },
  {
   "cell_type": "code",
   "execution_count": null,
   "id": "ada5d107",
   "metadata": {},
   "outputs": [],
   "source": [
    "#I have not found much of a difference between different groups using my profiles. However, I think I can do a better job of making sense of some of the data by just answering some of the questions in the Project Brief directly. For example, the project brief asks about differences in ordering habits based on loyalty status and region. Let's explore."
   ]
  },
  {
   "cell_type": "code",
   "execution_count": null,
   "id": "a037fbc1",
   "metadata": {},
   "outputs": [],
   "source": [
    "# Creating a crosstab comparing 'region' and 'loyalty_flag'\n",
    "\n",
    "region_loyalty_cross = pd.crosstab(df['region'], df['loyalty_flag'])\n",
    "\n",
    "region_loyalty_cross\n"
   ]
  },
  {
   "cell_type": "code",
   "execution_count": null,
   "id": "515f510e",
   "metadata": {},
   "outputs": [],
   "source": [
    "# Creating a crosstab comparing 'region' and 'loyalty_flag' with row percentages\n",
    "\n",
    "region_loyalty_crossed = pd.crosstab(df['region'], df['loyalty_flag'], normalize = 'index')\n",
    "\n",
    "region_loyalty_crossed"
   ]
  },
  {
   "cell_type": "code",
   "execution_count": null,
   "id": "14723083",
   "metadata": {},
   "outputs": [],
   "source": [
    "# Visualizing regional loyalty\n",
    "\n",
    "region_loyalty_bar = region_loyalty_cross.plot.bar(rot=0)"
   ]
  },
  {
   "cell_type": "code",
   "execution_count": null,
   "id": "8868a71a",
   "metadata": {},
   "outputs": [],
   "source": [
    "#At first glance, it seems like there are tons of regular customers in the South, and while this is true in absolute terms, it is also the case that the South was the largest region of the country. When we take the number of customers into account, we see that the distribution of loyalty is remarkably consistent across regions."
   ]
  },
  {
   "cell_type": "code",
   "execution_count": null,
   "id": "8e6e8510",
   "metadata": {},
   "outputs": [],
   "source": [
    "# Visualizing regional loyalty\n",
    "\n",
    "region_loyalty_bar_2 = region_loyalty_crossed.plot.bar(rot=0)"
   ]
  },
  {
   "cell_type": "code",
   "execution_count": null,
   "id": "ae1c82c1",
   "metadata": {},
   "outputs": [],
   "source": [
    "\n",
    "# Visualizing regional loyalty\n",
    "\n",
    "region_loyalty_bar_2 = region_loyalty_crossed.plot.bar(rot=0)\n",
    "# Visualizing regional loyalty\n",
    "\n",
    "region_loyalty_bar_2 = region_loyalty_crossed.plot.bar(rot=0)\n",
    "#As we've seen before, there's just not much of a difference in loyalty by region once the population of that region is taken into account. The same can be said of prices, days_since_prior_order, and all other variables I've explored. At this point, I've spent many hours on this project, and I'm going to call it here."
   ]
  },
  {
   "cell_type": "code",
   "execution_count": null,
   "id": "10fe6b8b",
   "metadata": {},
   "outputs": [],
   "source": [
    "#As we've seen before, there's just not much of a difference in loyalty by region once the population of that region is taken into account. The same can be said of prices, days_since_prior_order, and all other variables I've explored. At this point, I've spent many hours on this project, and I'm going to call it here."
   ]
  },
  {
   "cell_type": "code",
   "execution_count": null,
   "id": "210bb825",
   "metadata": {},
   "outputs": [],
   "source": [
    "# Exporting the visualizations above\n",
    "\n",
    "region_loyalty_bar.figure.savefig(os.path.join(path, 'Prepared', 'region_loyalty_bar.png'))\n",
    "region_loyalty_bar_2.figure.savefig(os.path.join(path, 'Prepared', 'region_loyalty_bar_2.png'))"
   ]
  },
  {
   "cell_type": "code",
   "execution_count": null,
   "id": "5c33875d",
   "metadata": {},
   "outputs": [],
   "source": [
    "### Creating a viz to answer \"Are there differences in ordering habits based on a customer's loyalty status?\""
   ]
  },
  {
   "cell_type": "code",
   "execution_count": null,
   "id": "15715f04",
   "metadata": {},
   "outputs": [],
   "source": [
    "#By Order Frequency"
   ]
  },
  {
   "cell_type": "code",
   "execution_count": null,
   "id": "d3ec3444",
   "metadata": {},
   "outputs": [],
   "source": [
    "# Creating the crosstab\n",
    "\n",
    "frequency_loyalty_crossed = pd.crosstab(df['order_frequency_flag'], df['loyalty_flag'])\n",
    "\n",
    "frequency_loyalty_crossed"
   ]
  },
  {
   "cell_type": "code",
   "execution_count": null,
   "id": "c451868d",
   "metadata": {},
   "outputs": [],
   "source": [
    "# Creating the viz\n",
    "\n",
    "frequency_loyalty_bar = frequency_loyalty_crossed.plot.bar(rot=0)"
   ]
  },
  {
   "cell_type": "code",
   "execution_count": null,
   "id": "74e433f6",
   "metadata": {},
   "outputs": [],
   "source": [
    "# Exporting the viz\n",
    "\n",
    "frequency_loyalty_bar.figure.savefig(os.path.join(path,'Prepared', 'frequency_loyalty_bar.png'))"
   ]
  },
  {
   "cell_type": "code",
   "execution_count": null,
   "id": "a28ccae0",
   "metadata": {},
   "outputs": [],
   "source": [
    "#By Spending"
   ]
  },
  {
   "cell_type": "code",
   "execution_count": null,
   "id": "7c6c2cd2",
   "metadata": {},
   "outputs": [],
   "source": [
    "# Creating the crosstab\n",
    "\n",
    "spending_loyalty_crossed = pd.crosstab(df['spending_flag'], df['loyalty_flag'])\n",
    "\n",
    "spending_loyalty_crossed\n",
    "#After this run the Step 306 to avoid the error"
   ]
  },
  {
   "cell_type": "code",
   "execution_count": null,
   "id": "e5e4a578",
   "metadata": {},
   "outputs": [],
   "source": [
    "# Exporting the viz\n",
    "\n",
    "spending_loyalty_bar.figure.savefig(os.path.join(path, 'Prepared', 'spending_loyalty_bar.png'))"
   ]
  },
  {
   "cell_type": "code",
   "execution_count": null,
   "id": "5d66ec87",
   "metadata": {},
   "outputs": [],
   "source": [
    "#Creating a viz to answer \"Are there differences in ordering habits based on a customer's region?\""
   ]
  },
  {
   "cell_type": "code",
   "execution_count": null,
   "id": "40ab6c72",
   "metadata": {},
   "outputs": [],
   "source": [
    "#By Order Frequency"
   ]
  },
  {
   "cell_type": "code",
   "execution_count": null,
   "id": "ff5fa8e1",
   "metadata": {},
   "outputs": [],
   "source": [
    "# Creating the crosstab\n",
    "\n",
    "frequency_region_crossed = pd.crosstab(df['order_frequency_flag'], df['region'])\n",
    "\n",
    "frequency_region_crossed"
   ]
  },
  {
   "cell_type": "code",
   "execution_count": null,
   "id": "bec8c725",
   "metadata": {},
   "outputs": [],
   "source": [
    "# Creating the crosstab\n",
    "\n",
    "frequency_region_crossed = pd.crosstab(df['order_frequency_flag'], df['region'])\n",
    "\n",
    "frequency_region_crossed"
   ]
  },
  {
   "cell_type": "code",
   "execution_count": null,
   "id": "18425a44",
   "metadata": {},
   "outputs": [],
   "source": [
    "# Creating the viz\n",
    "\n",
    "frequency_region_bar = frequency_region_crossed.plot.bar(rot=0)"
   ]
  },
  {
   "cell_type": "code",
   "execution_count": null,
   "id": "4e5f824f",
   "metadata": {},
   "outputs": [],
   "source": [
    "# Creating the viz\n",
    "\n",
    "frequency_region_bar = frequency_region_crossed.plot.bar(rot=0)"
   ]
  },
  {
   "cell_type": "code",
   "execution_count": null,
   "id": "b98a7b2d",
   "metadata": {},
   "outputs": [],
   "source": [
    "# Exporting the viz\n",
    "\n",
    "frequency_region_bar.figure.savefig(os.path.join(path, 'Prepared', 'frequency_region_bar.png'))"
   ]
  },
  {
   "cell_type": "code",
   "execution_count": null,
   "id": "bec261a0",
   "metadata": {},
   "outputs": [],
   "source": [
    "#By spending"
   ]
  },
  {
   "cell_type": "code",
   "execution_count": null,
   "id": "7a89d3e5",
   "metadata": {},
   "outputs": [],
   "source": [
    "# Creating the crosstab\n",
    "\n",
    "spending_region_crossed = pd.crosstab(df['spending_flag'], df['region'])\n",
    "\n",
    "spending_region_crossed"
   ]
  },
  {
   "cell_type": "code",
   "execution_count": null,
   "id": "caaa4f4d",
   "metadata": {},
   "outputs": [],
   "source": [
    "# Creating the viz\n",
    "\n",
    "spending_region_bar = spending_region_crossed.plot.bar(rot=0)"
   ]
  },
  {
   "cell_type": "code",
   "execution_count": null,
   "id": "f5322657",
   "metadata": {},
   "outputs": [],
   "source": [
    "# Exporting the viz\n",
    "\n",
    "spending_region_bar.figure.savefig(os.path.join(path, 'Prepared', 'spending_region_bar.png'))"
   ]
  },
  {
   "cell_type": "code",
   "execution_count": null,
   "id": "1cf3e8e3",
   "metadata": {},
   "outputs": [],
   "source": [
    "#Step 10: Tidy Up, Export Df, and Save Notebook"
   ]
  },
  {
   "cell_type": "code",
   "execution_count": null,
   "id": "3ff5dc90",
   "metadata": {},
   "outputs": [],
   "source": [
    "# Exporting final data set as \n",
    "\n",
    "df.to_pickle(os.path.join(path, 'Prepared', 'orders_products_final.pkl'))"
   ]
  },
  {
   "cell_type": "code",
   "execution_count": null,
   "id": "2b5863e4",
   "metadata": {},
   "outputs": [],
   "source": [
    "df.info()"
   ]
  },
  {
   "cell_type": "code",
   "execution_count": null,
   "id": "656bb88e",
   "metadata": {},
   "outputs": [],
   "source": [
    "# Creating the viz\n",
    "\n",
    "spending_loyalty_bar = spending_loyalty_crossed.plot.bar(rot=0)"
   ]
  },
  {
   "cell_type": "code",
   "execution_count": null,
   "id": "c7c2c70d",
   "metadata": {},
   "outputs": [],
   "source": []
  },
  {
   "cell_type": "code",
   "execution_count": null,
   "id": "ceb107de",
   "metadata": {},
   "outputs": [],
   "source": []
  }
 ],
 "metadata": {
  "kernelspec": {
   "display_name": "Python 3 (ipykernel)",
   "language": "python",
   "name": "python3"
  },
  "language_info": {
   "codemirror_mode": {
    "name": "ipython",
    "version": 3
   },
   "file_extension": ".py",
   "mimetype": "text/x-python",
   "name": "python",
   "nbconvert_exporter": "python",
   "pygments_lexer": "ipython3",
   "version": "3.10.9"
  }
 },
 "nbformat": 4,
 "nbformat_minor": 5
}
